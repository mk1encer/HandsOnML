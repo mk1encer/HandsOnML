{
  "nbformat": 4,
  "nbformat_minor": 0,
  "metadata": {
    "colab": {
      "name": "Classification.ipynb",
      "provenance": [],
      "collapsed_sections": [],
      "authorship_tag": "ABX9TyNp1KLtQXRNYmgg5VHoIyMZ",
      "include_colab_link": true
    },
    "kernelspec": {
      "name": "python3",
      "display_name": "Python 3"
    },
    "language_info": {
      "name": "python"
    }
  },
  "cells": [
    {
      "cell_type": "markdown",
      "metadata": {
        "id": "view-in-github",
        "colab_type": "text"
      },
      "source": [
        "<a href=\"https://colab.research.google.com/github/mk1encer/HandsOnML/blob/main/Classification.ipynb\" target=\"_parent\"><img src=\"https://colab.research.google.com/assets/colab-badge.svg\" alt=\"Open In Colab\"/></a>"
      ]
    },
    {
      "cell_type": "code",
      "execution_count": 4,
      "metadata": {
        "colab": {
          "base_uri": "https://localhost:8080/"
        },
        "id": "NctwQbNyndve",
        "outputId": "8e7b497f-7397-4aa2-91a5-1275e2c2f7b3"
      },
      "outputs": [
        {
          "output_type": "execute_result",
          "data": {
            "text/plain": [
              "dict_keys(['data', 'target', 'frame', 'categories', 'feature_names', 'target_names', 'DESCR', 'details', 'url'])"
            ]
          },
          "metadata": {},
          "execution_count": 4
        }
      ],
      "source": [
        "from sklearn.datasets import fetch_openml\n",
        "mnist=fetch_openml('mnist_784',version=1,as_frame=False)\n",
        "mnist.keys()"
      ]
    },
    {
      "cell_type": "code",
      "source": [
        "X,y=mnist['data'],mnist['target']\n",
        "print(type(X))"
      ],
      "metadata": {
        "colab": {
          "base_uri": "https://localhost:8080/"
        },
        "id": "19EdEomxnq_F",
        "outputId": "d23fda0c-5f2e-4171-f5bb-c15f1be2af7f"
      },
      "execution_count": 5,
      "outputs": [
        {
          "output_type": "stream",
          "name": "stdout",
          "text": [
            "<class 'numpy.ndarray'>\n"
          ]
        }
      ]
    },
    {
      "cell_type": "code",
      "source": [
        "import matplotlib as mpl\n",
        "import matplotlib.pyplot as plt\n",
        "import numpy as np\n",
        "import pandas as pd\n",
        "\n",
        "some_digit=X[0]\n",
        "some_digit_image=some_digit.reshape(28,28)\n",
        "\n",
        "plt.imshow(some_digit_image, cmap='binary')\n",
        "plt.axis('off')\n",
        "plt.show()"
      ],
      "metadata": {
        "colab": {
          "base_uri": "https://localhost:8080/",
          "height": 248
        },
        "id": "otW9Dcb1pIt9",
        "outputId": "3b6c2e53-4bf5-47ef-d69f-f9571825c8ad"
      },
      "execution_count": 6,
      "outputs": [
        {
          "output_type": "display_data",
          "data": {
            "image/png": "[encoded data removed]",
            "text/plain": [
              "<Figure size 432x288 with 1 Axes>"
            ]
          },
          "metadata": {
            "needs_background": "light"
          }
        }
      ]
    },
    {
      "cell_type": "code",
      "source": [
        "y[0]"
      ],
      "metadata": {
        "colab": {
          "base_uri": "https://localhost:8080/",
          "height": 35
        },
        "id": "fcEjjOMCpv7K",
        "outputId": "f70fbe01-220e-4f27-9d79-77d6780f80e0"
      },
      "execution_count": 7,
      "outputs": [
        {
          "output_type": "execute_result",
          "data": {
            "application/vnd.google.colaboratory.intrinsic+json": {
              "type": "string"
            },
            "text/plain": [
              "'5'"
            ]
          },
          "metadata": {},
          "execution_count": 7
        }
      ]
    },
    {
      "cell_type": "code",
      "source": [
        "y=y.astype(np.uint8)"
      ],
      "metadata": {
        "id": "GVWyRi-mrVde"
      },
      "execution_count": 8,
      "outputs": []
    },
    {
      "cell_type": "code",
      "source": [
        "#from sklearn.model_selection import train_test_split\n",
        "#X_train, X_test, y_train, y_test = train_test_split(X,y,train_size=0.9,random_state=100)\n",
        "\n",
        "\n",
        "X_train, X_test, y_train, y_test=X[:60000],X[60000:],y[:60000],y[60000:]"
      ],
      "metadata": {
        "id": "qAKUdC3Lrdih"
      },
      "execution_count": 9,
      "outputs": []
    },
    {
      "cell_type": "markdown",
      "source": [
        "# 훈련세트를 섞어서 모든 교차검증폴드를 비슷하게 만들어 주는 것이 좋다. 어떤 학습 알고리즘은 샘플 훈서에 민감해서 비슷한 샘플이 연이어 나타나면 성능이 나빠짐."
      ],
      "metadata": {
        "id": "qUP5bK5asW5U"
      }
    },
    {
      "cell_type": "markdown",
      "source": [
        "## *이진 분류기 훈련*"
      ],
      "metadata": {
        "id": "mknHZvuisi1n"
      }
    },
    {
      "cell_type": "code",
      "source": [
        "y_train_5=(y_train==5)\n",
        "y_test_5=(y_test==5)"
      ],
      "metadata": {
        "id": "ej3oDRtnsLrP"
      },
      "execution_count": 10,
      "outputs": []
    },
    {
      "cell_type": "markdown",
      "source": [
        "확률적 경사하강법(SGD)로 훈련.\n",
        " SGD는 한번에 하나씩 훈련샘플을 독립적으로 처리해서 매우 큰 데이터셋을 효율적으로 처리함(온라인 학습에 적합)"
      ],
      "metadata": {
        "id": "VRS78G4Vs4mI"
      }
    },
    {
      "cell_type": "code",
      "source": [
        "from sklearn.linear_model import SGDClassifier\n",
        "\n",
        "sgd_clf=SGDClassifier(random_state=42)\n",
        "#SGDClassifier는 무작위성을 훈련시 사용하므로 재현하려면 매개변수지정 필요.\n",
        "sgd_clf.fit(X_train, y_train_5)"
      ],
      "metadata": {
        "colab": {
          "base_uri": "https://localhost:8080/"
        },
        "id": "D8mjfSi6s1CW",
        "outputId": "67d60da1-b889-4904-8a5e-f6630c3c37c1"
      },
      "execution_count": 11,
      "outputs": [
        {
          "output_type": "execute_result",
          "data": {
            "text/plain": [
              "SGDClassifier(random_state=42)"
            ]
          },
          "metadata": {},
          "execution_count": 11
        }
      ]
    },
    {
      "cell_type": "code",
      "source": [
        "sgd_clf.predict([some_digit])"
      ],
      "metadata": {
        "colab": {
          "base_uri": "https://localhost:8080/"
        },
        "id": "cm5Df3XVteih",
        "outputId": "0e39a007-ac5b-43cb-f8ca-7b95a2ddca02"
      },
      "execution_count": 12,
      "outputs": [
        {
          "output_type": "execute_result",
          "data": {
            "text/plain": [
              "array([ True])"
            ]
          },
          "metadata": {},
          "execution_count": 12
        }
      ]
    },
    {
      "cell_type": "code",
      "source": [
        "from sklearn.model_selection import cross_val_score\n",
        "cross_val_score(sgd_clf, X_train, y_train_5,cv=3,scoring='accuracy')"
      ],
      "metadata": {
        "colab": {
          "base_uri": "https://localhost:8080/"
        },
        "id": "RL0WLuB0trfw",
        "outputId": "2d8aca2a-437b-4f50-e8a3-7aba44332dcd"
      },
      "execution_count": 13,
      "outputs": [
        {
          "output_type": "execute_result",
          "data": {
            "text/plain": [
              "array([0.95035, 0.96035, 0.9604 ])"
            ]
          },
          "metadata": {},
          "execution_count": 13
        }
      ]
    },
    {
      "cell_type": "markdown",
      "source": [
        "정확도가 95%이상. 다음은 모든 이미지를 5아님으로 분류하는 더미 분류기를 만들어보겠다."
      ],
      "metadata": {
        "id": "wQha7QYTutaE"
      }
    },
    {
      "cell_type": "code",
      "source": [
        "from sklearn.base import BaseEstimator\n",
        "\n",
        "class Never5Classifier(BaseEstimator):\n",
        "  def fit(self, X,y=None):\n",
        "    return self\n",
        "  \n",
        "  def predict(self,X):\n",
        "    return np.zeros((len(X),1),dtype=bool)"
      ],
      "metadata": {
        "id": "dRnwOAKHuWuF"
      },
      "execution_count": 14,
      "outputs": []
    },
    {
      "cell_type": "code",
      "source": [
        "never_5_clf=Never5Classifier()\n",
        "cross_val_score(never_5_clf,X_train,y_train_5,cv=3,scoring='accuracy')"
      ],
      "metadata": {
        "colab": {
          "base_uri": "https://localhost:8080/"
        },
        "id": "dVjZL-xTvI7r",
        "outputId": "55049d01-fc90-4343-bdf7-93e02c1d4a21"
      },
      "execution_count": 15,
      "outputs": [
        {
          "output_type": "execute_result",
          "data": {
            "text/plain": [
              "array([0.91125, 0.90855, 0.90915])"
            ]
          },
          "metadata": {},
          "execution_count": 15
        }
      ]
    },
    {
      "cell_type": "markdown",
      "source": [
        "숫자가 0-9 10개이므로 모두5아님으로 분류해도 정확도가 90%가까이 나오는것을 알 수 있음.\n",
        "**그러므로 정확도는 분류기의 성능측정지표로 적합하지 않다.**\n",
        "\n",
        "오차행렬을 사용하는 편이 낫다."
      ],
      "metadata": {
        "id": "mSm_uWoXvfRf"
      }
    },
    {
      "cell_type": "markdown",
      "source": [
        "오차행렬을 만들기 위해서는 예측값을 만들어야 하는데 테스트세트로 하면 안되고 cross_val_predict()함수를 이용하면 된다."
      ],
      "metadata": {
        "id": "uM2KqhvmwM-W"
      }
    },
    {
      "cell_type": "code",
      "source": [
        "from sklearn.model_selection import cross_val_predict\n",
        "\n",
        "y_train_pred=cross_val_predict(sgd_clf, X_train, y_train_5, cv=3)"
      ],
      "metadata": {
        "id": "AylEVDbCvV_E"
      },
      "execution_count": 16,
      "outputs": []
    },
    {
      "cell_type": "markdown",
      "source": [
        "cross_val_predict()함수는 cross_val_score()함수와 동일하게 k-겹 교차검증을 수행하지만 평가점수 반환이 아닌 각 테스트폴드에서 얻은 예측을 반환하므로 모든 훈련세트 샘플에 대해 꺠끗한 예측을 얻을 수 있다.\n",
        "\n",
        "confusion_matrix()함수를 사용하면 오차행렬을 만들 수 있음."
      ],
      "metadata": {
        "id": "JYq_V72DwiRN"
      }
    },
    {
      "cell_type": "code",
      "source": [
        "from sklearn.metrics import confusion_matrix\n",
        "\n",
        "confusion_matrix(y_train_5,y_train_pred)"
      ],
      "metadata": {
        "id": "Zz2Bk9ZFwgYC",
        "colab": {
          "base_uri": "https://localhost:8080/"
        },
        "outputId": "e8d292ab-6cff-42ff-fa99-7a24f4496031"
      },
      "execution_count": 17,
      "outputs": [
        {
          "output_type": "execute_result",
          "data": {
            "text/plain": [
              "array([[53892,   687],\n",
              "       [ 1891,  3530]])"
            ]
          },
          "metadata": {},
          "execution_count": 17
        }
      ]
    },
    {
      "cell_type": "markdown",
      "source": [
        "오차행렬에서 행(가로)은 실제 클래스, 열은 예측한 클래스\n",
        "\n",
        "**즉, True Negative, False Positive, False Negative, True Positive 순이다.**"
      ],
      "metadata": {
        "id": "O4w7OpbXDio5"
      }
    },
    {
      "cell_type": "code",
      "source": [
        "y_train_perfect_predictions = y_train_5\n",
        "confusion_matrix(y_train_5,y_train_perfect_predictions)"
      ],
      "metadata": {
        "colab": {
          "base_uri": "https://localhost:8080/"
        },
        "id": "CWBGAn4uCZAL",
        "outputId": "f20040ee-5bce-4626-eec7-8b25397c5aea"
      },
      "execution_count": 18,
      "outputs": [
        {
          "output_type": "execute_result",
          "data": {
            "text/plain": [
              "array([[54579,     0],\n",
              "       [    0,  5421]])"
            ]
          },
          "metadata": {},
          "execution_count": 18
        }
      ]
    },
    {
      "cell_type": "markdown",
      "source": [
        "완벽한 분류기라면 False Positive, False Negative값이 0이 된다."
      ],
      "metadata": {
        "id": "cL0pG-GPD-iU"
      }
    },
    {
      "cell_type": "markdown",
      "source": [
        "정밀도: True로 분류한 결과중 몇개가 맞게 분류되었는지\n",
        "  TP/TP+FP\n",
        "  **precision_score()로 구할 수 있음**\n",
        "\n",
        "재현율: 전체 True 데이터중 몇개가 True로 분류되었는지\n",
        "  TP/TP+FN\n",
        "  **recall_score()로 구할 수 있음**"
      ],
      "metadata": {
        "id": "mkkV4jwzEcdA"
      }
    },
    {
      "cell_type": "code",
      "source": [
        "from sklearn.metrics import precision_score, recall_score\n",
        "print(precision_score(y_train_5,y_train_pred))\n",
        "print(recall_score(y_train_5,y_train_pred))"
      ],
      "metadata": {
        "colab": {
          "base_uri": "https://localhost:8080/"
        },
        "id": "cxJBCWlzEPVb",
        "outputId": "fe545da4-f193-455b-b842-f7d40c41bc56"
      },
      "execution_count": 19,
      "outputs": [
        {
          "output_type": "stream",
          "name": "stdout",
          "text": [
            "0.8370879772350012\n",
            "0.6511713705958311\n"
          ]
        }
      ]
    },
    {
      "cell_type": "markdown",
      "source": [
        "정밀도와 재현율의 조화평균이 F1-score이다. \n",
        "**이 또한 f1_score()함수로 구할 수 있음**"
      ],
      "metadata": {
        "id": "radpi30hFs2G"
      }
    },
    {
      "cell_type": "code",
      "source": [
        "from sklearn.metrics import f1_score\n",
        "f1_score(y_train_5,y_train_pred)"
      ],
      "metadata": {
        "colab": {
          "base_uri": "https://localhost:8080/"
        },
        "id": "zlOf3IRjFh5J",
        "outputId": "697b5bf4-b1c3-45b6-8c6d-33ab65ee30ff"
      },
      "execution_count": 20,
      "outputs": [
        {
          "output_type": "execute_result",
          "data": {
            "text/plain": [
              "0.7325171197343846"
            ]
          },
          "metadata": {},
          "execution_count": 20
        }
      ]
    },
    {
      "cell_type": "markdown",
      "source": [
        "정밀도와 재현율이 비슷하면 f1점수가 높은데 상황에 따라 정밀도, 재현율중 중요한 것이 다르므로 고려해야함. \n",
        "# 정밀도/재현율 trade-off"
      ],
      "metadata": {
        "id": "PaLSQI-KGEQ2"
      }
    },
    {
      "cell_type": "markdown",
      "source": [
        "SGD분류기는 결정함수가 threshold보다 크면 양성, 작으면 음성으로 분류한다. 사이킷런에서 predict()대신 decision_function()메소드를 호출하면 임계값을 정할 수 있다."
      ],
      "metadata": {
        "id": "GEXSvuh8Gyxw"
      }
    },
    {
      "cell_type": "code",
      "source": [
        "y_scores=sgd_clf.decision_function([some_digit])\n",
        "print(y_scores)\n",
        "threshold=0\n",
        "y_some_digit_pred=(y_scores > threshold)\n",
        "print(y_some_digit_pred)"
      ],
      "metadata": {
        "colab": {
          "base_uri": "https://localhost:8080/"
        },
        "id": "-7PDDcTzF_Nn",
        "outputId": "a9561c0c-3294-4031-cf5a-1c80701091e7"
      },
      "execution_count": 21,
      "outputs": [
        {
          "output_type": "stream",
          "name": "stdout",
          "text": [
            "[2164.22030239]\n",
            "[ True]\n"
          ]
        }
      ]
    },
    {
      "cell_type": "code",
      "source": [
        "threshold=8000\n",
        "y_some_digit_pred=(y_scores > threshold)\n",
        "print(y_some_digit_pred)"
      ],
      "metadata": {
        "colab": {
          "base_uri": "https://localhost:8080/"
        },
        "id": "1bX-QhzgH42D",
        "outputId": "eb546aab-1a4c-4513-a297-c5b6af7d8f2b"
      },
      "execution_count": 22,
      "outputs": [
        {
          "output_type": "stream",
          "name": "stdout",
          "text": [
            "[False]\n"
          ]
        }
      ]
    },
    {
      "cell_type": "markdown",
      "source": [
        "threshold가 높아지면 재현율이 줄어든다.\n",
        "적절한 threshold를 구하기 위해 cross_val_predict()함수를 사용해 모든 샘플의 점수를 구해야한다.**(예측결과가 아니라 결정점수를 반환받아야함)**"
      ],
      "metadata": {
        "id": "dt_OZLXlIPcD"
      }
    },
    {
      "cell_type": "code",
      "source": [
        "y_scores=cross_val_predict(sgd_clf, X_train, y_train_5, cv=3, method='decision_function')"
      ],
      "metadata": {
        "id": "zupLtOy9IKE1"
      },
      "execution_count": 23,
      "outputs": []
    },
    {
      "cell_type": "code",
      "source": [
        "from sklearn.metrics import precision_recall_curve\n",
        "precisions, recalls, thresholds = precision_recall_curve(y_train_5,y_scores)\n"
      ],
      "metadata": {
        "id": "1CAy46f4JYjc"
      },
      "execution_count": 24,
      "outputs": []
    },
    {
      "cell_type": "code",
      "source": [
        "def plot_precision_recall_vs_threshold(precisions, recalls, thresholds):\n",
        "  plt.plot(thresholds, precisions[:-1],'b--',label='Precision')\n",
        "  plt.plot(thresholds, recalls[:-1],'g--',label='Recall')\n",
        "  plt.xlabel('threshold')\n",
        "  plt.legend(['precision','recall'])\n",
        "  plt.xlim(-50000,50000)\n",
        "  plt.grid(True)\n",
        "\n",
        "plot_precision_recall_vs_threshold(precisions, recalls, thresholds)\n",
        "plt.show()"
      ],
      "metadata": {
        "colab": {
          "base_uri": "https://localhost:8080/",
          "height": 279
        },
        "id": "huhelCwsLn-k",
        "outputId": "a1a7d031-ba49-449a-82bd-d88f3f8af697"
      },
      "execution_count": 25,
      "outputs": [
        {
          "output_type": "display_data",
          "data": {
            "image/png": "[encoded data removed]",
            "text/plain": [
              "<Figure size 432x288 with 1 Axes>"
            ]
          },
          "metadata": {
            "needs_background": "light"
          }
        }
      ]
    },
    {
      "cell_type": "code",
      "source": [
        "def plot_precision_recall(precisions, recalls):\n",
        "  plt.plot(recalls[:-1], precisions[:-1],'b--',label='Precision')\n",
        "  plt.xlabel('recall')\n",
        "  plt.ylabel('precision')\n",
        "  plt.grid(True)\n",
        "\n",
        "plot_precision_recall(precisions, recalls)\n",
        "plt.show()"
      ],
      "metadata": {
        "colab": {
          "base_uri": "https://localhost:8080/",
          "height": 279
        },
        "id": "hmhPiJpENcrS",
        "outputId": "c40022a4-b4d4-43e3-8764-40a68a472fcb"
      },
      "execution_count": 26,
      "outputs": [
        {
          "output_type": "display_data",
          "data": {
            "image/png": "[encoded data removed]",
            "text/plain": [
              "<Figure size 432x288 with 1 Axes>"
            ]
          },
          "metadata": {
            "needs_background": "light"
          }
        }
      ]
    },
    {
      "cell_type": "markdown",
      "source": [
        "np.argmax()는 최댓값의 첫 번째 인덱스를 반환한다."
      ],
      "metadata": {
        "id": "5tCDXxKeOzsT"
      }
    },
    {
      "cell_type": "code",
      "source": [
        "threshold_90_precision = thresholds[np.argmax(precisions >= 0.9)]\n",
        "print(threshold_90_precision)"
      ],
      "metadata": {
        "colab": {
          "base_uri": "https://localhost:8080/"
        },
        "id": "OALsfs_9OiPZ",
        "outputId": "bc25dbc6-6111-4966-c25a-f86b3502dfed"
      },
      "execution_count": 27,
      "outputs": [
        {
          "output_type": "stream",
          "name": "stdout",
          "text": [
            "3370.0194991439557\n"
          ]
        }
      ]
    },
    {
      "cell_type": "markdown",
      "source": [
        "훈련세트에 대한 예측을 만들려면 predict메소드 대신 다음 코드를 실행하면 된다."
      ],
      "metadata": {
        "id": "AipQdqNRPqQY"
      }
    },
    {
      "cell_type": "code",
      "source": [
        "y_train_pred_90 = (y_scores >= threshold_90_precision)\n",
        "\n",
        "print(precision_score(y_train_5,y_train_pred_90))\n",
        "print(recall_score(y_train_5,y_train_pred_90))"
      ],
      "metadata": {
        "colab": {
          "base_uri": "https://localhost:8080/"
        },
        "id": "HjP6UAivPAOi",
        "outputId": "8ced059b-31a2-4721-9364-2f0ef791c23f"
      },
      "execution_count": 28,
      "outputs": [
        {
          "output_type": "stream",
          "name": "stdout",
          "text": [
            "0.9000345901072293\n",
            "0.4799852425751706\n"
          ]
        }
      ]
    },
    {
      "cell_type": "markdown",
      "source": [
        "# ROC 곡선\n",
        "거짓양성비율에 대한 진짜양성비율의 곡선"
      ],
      "metadata": {
        "id": "Et9W9HUK59p5"
      }
    },
    {
      "cell_type": "code",
      "source": [
        "from sklearn.metrics import roc_curve\n",
        "fpr,tpr,thresholds = roc_curve(y_train_5,y_scores)\n",
        "\n",
        "def plot_roc_curve(fpr, tpr, label=None):\n",
        "  plt.plot(fpr,tpr,linewidth=2,label=label)\n",
        "  plt.plot([0,1],[0,1],'k--')\n",
        "\n",
        "plot_roc_curve(fpr,tpr)\n",
        "plt.show()"
      ],
      "metadata": {
        "id": "k5iAeWSzPoZZ",
        "colab": {
          "base_uri": "https://localhost:8080/",
          "height": 265
        },
        "outputId": "85879722-57f8-4635-9ab5-e3d20969bf07"
      },
      "execution_count": 29,
      "outputs": [
        {
          "output_type": "display_data",
          "data": {
            "image/png": "[encoded data removed]",
            "text/plain": [
              "<Figure size 432x288 with 1 Axes>"
            ]
          },
          "metadata": {
            "needs_background": "light"
          }
        }
      ]
    },
    {
      "cell_type": "markdown",
      "source": [
        "곡선 아래의 면적(AUC)를 측정하여 분류기를 비교할 수 있다.\n",
        "\n",
        "-일반적으로 양성인 클래스가 드물거나 거짓음성보다 거짓양성이 더 중요할 때는 PR곡선을 사용하고 그렇지 않으면 ROC곡선을 사용한다."
      ],
      "metadata": {
        "id": "tUKM99qU7UNa"
      }
    },
    {
      "cell_type": "code",
      "source": [
        "from sklearn.metrics import roc_auc_score\n",
        "roc_auc_score(y_train_5,y_scores)"
      ],
      "metadata": {
        "colab": {
          "base_uri": "https://localhost:8080/"
        },
        "id": "GTTw-dnf7CPx",
        "outputId": "2538b448-718a-44a1-db08-f65824d70ed4"
      },
      "execution_count": 30,
      "outputs": [
        {
          "output_type": "execute_result",
          "data": {
            "text/plain": [
              "0.9604938554008616"
            ]
          },
          "metadata": {},
          "execution_count": 30
        }
      ]
    },
    {
      "cell_type": "markdown",
      "source": [
        "RandomForestClassifier를 훈련시켜 SGDClassifier의 ROC곡선과 비교."
      ],
      "metadata": {
        "id": "GacADYF78OmA"
      }
    },
    {
      "cell_type": "code",
      "source": [
        "from sklearn.ensemble import RandomForestClassifier\n",
        "forest_clf=RandomForestClassifier(random_state=42)\n",
        "y_probas_forest = cross_val_predict(forest_clf, X_train, y_train_5, cv=4,method=\"predict_proba\")"
      ],
      "metadata": {
        "id": "W-oqnXvo7i6q"
      },
      "execution_count": 31,
      "outputs": []
    },
    {
      "cell_type": "code",
      "source": [
        "y_scores_forest=y_probas_forest[:,1] #score = probability of positive class\n",
        "fpr_forest, tpr_forest, thresholds_forest = roc_curve(y_train_5, y_scores_forest)"
      ],
      "metadata": {
        "id": "TsiaDmk78jai"
      },
      "execution_count": 32,
      "outputs": []
    },
    {
      "cell_type": "code",
      "source": [
        "plt.plot(fpr,tpr,\"b:\",label=\"SGD\")\n",
        "plot_roc_curve(fpr_forest, tpr_forest, \"RandomForest\")\n",
        "plt.legend(loc=\"lower right\")\n",
        "plt.show()"
      ],
      "metadata": {
        "colab": {
          "base_uri": "https://localhost:8080/",
          "height": 265
        },
        "id": "KafA3C_A88gx",
        "outputId": "11132948-5858-4a40-8220-701703bdefb7"
      },
      "execution_count": 33,
      "outputs": [
        {
          "output_type": "display_data",
          "data": {
            "image/png": "[encoded data removed]",
            "text/plain": [
              "<Figure size 432x288 with 1 Axes>"
            ]
          },
          "metadata": {
            "needs_background": "light"
          }
        }
      ]
    },
    {
      "cell_type": "code",
      "source": [
        "roc_auc_score(y_train_5, y_scores_forest)"
      ],
      "metadata": {
        "colab": {
          "base_uri": "https://localhost:8080/"
        },
        "id": "3slLGOV39P6z",
        "outputId": "10c28329-3af0-4d4b-c038-650f90894daf"
      },
      "execution_count": 34,
      "outputs": [
        {
          "output_type": "execute_result",
          "data": {
            "text/plain": [
              "0.9984268710591231"
            ]
          },
          "metadata": {},
          "execution_count": 34
        }
      ]
    },
    {
      "cell_type": "markdown",
      "source": [
        "# 다중 분류\n",
        "두개 이상의 클래스를 구별하는 분류기\n",
        "이진분류기를 여러개 써서 구현하는 것도 가능하다(OvR: One versus Rest)\n",
        "다중분류작업에 이진분류알고리즘을 선택하면 사이킷런이 알아서 OvR 또는 OvO를 실행한다."
      ],
      "metadata": {
        "id": "w9nm5dao9a-9"
      }
    },
    {
      "cell_type": "code",
      "source": [
        "from sklearn.svm import SVC\n",
        "scm_clf=SVC()\n",
        "sgd_clf.fit(X_train, y_train)\n",
        "sgd_clf.predict([some_digit])"
      ],
      "metadata": {
        "colab": {
          "base_uri": "https://localhost:8080/"
        },
        "id": "atAm9_j59U9N",
        "outputId": "14edf717-9272-43fc-89b2-2b64ff43506d"
      },
      "execution_count": 35,
      "outputs": [
        {
          "output_type": "execute_result",
          "data": {
            "text/plain": [
              "array([3], dtype=uint8)"
            ]
          },
          "metadata": {},
          "execution_count": 35
        }
      ]
    },
    {
      "cell_type": "code",
      "source": [
        "some_digit_scores=sgd_clf.decision_function([some_digit])\n",
        "print(some_digit_scores)"
      ],
      "metadata": {
        "colab": {
          "base_uri": "https://localhost:8080/"
        },
        "id": "YMka8nOl-ZkD",
        "outputId": "e5321aba-6131-4308-8708-fd651b367668"
      },
      "execution_count": 36,
      "outputs": [
        {
          "output_type": "stream",
          "name": "stdout",
          "text": [
            "[[-31893.03095419 -34419.69069632  -9530.63950739   1823.73154031\n",
            "  -22320.14822878  -1385.80478895 -26188.91070951 -16147.51323997\n",
            "   -4604.35491274 -12050.767298  ]]\n"
          ]
        }
      ]
    },
    {
      "cell_type": "code",
      "source": [
        "print(np.argmax(some_digit_scores))\n",
        "print(sgd_clf.classes_)\n",
        "print(sgd_clf.classes_[3])"
      ],
      "metadata": {
        "colab": {
          "base_uri": "https://localhost:8080/"
        },
        "id": "PhFnhqNa-_de",
        "outputId": "34e8cb46-a10d-4f57-9252-4a52904fa5fc"
      },
      "execution_count": 37,
      "outputs": [
        {
          "output_type": "stream",
          "name": "stdout",
          "text": [
            "3\n",
            "[0 1 2 3 4 5 6 7 8 9]\n",
            "3\n"
          ]
        }
      ]
    },
    {
      "cell_type": "markdown",
      "source": [
        "사이킷런에서 OvO 또는 OvR을 사용하도록 강제하려면 OneVsOneClassifier나 OneVsRestClassifier를 사용한다."
      ],
      "metadata": {
        "id": "AgKMjX0l_aKB"
      }
    },
    {
      "cell_type": "code",
      "source": [
        "from sklearn.multiclass import OneVsRestClassifier\n",
        "ovr_clf=OneVsRestClassifier(SGDClassifier(random_state=42))\n",
        "ovr_clf.fit(X_train, y_train)\n",
        "ovr_clf.predict([some_digit])"
      ],
      "metadata": {
        "colab": {
          "base_uri": "https://localhost:8080/"
        },
        "id": "MpP4rr2f_lMi",
        "outputId": "98b7e24b-1c7d-45e5-c39a-e246998e1402"
      },
      "execution_count": 38,
      "outputs": [
        {
          "output_type": "execute_result",
          "data": {
            "text/plain": [
              "array([5], dtype=uint8)"
            ]
          },
          "metadata": {},
          "execution_count": 38
        }
      ]
    },
    {
      "cell_type": "code",
      "source": [
        "len(ovr_clf.estimators_)"
      ],
      "metadata": {
        "colab": {
          "base_uri": "https://localhost:8080/"
        },
        "id": "RbIcBICXAhkh",
        "outputId": "bce61873-a065-4198-e9e3-07ccd553bad7"
      },
      "execution_count": 39,
      "outputs": [
        {
          "output_type": "execute_result",
          "data": {
            "text/plain": [
              "10"
            ]
          },
          "metadata": {},
          "execution_count": 39
        }
      ]
    },
    {
      "cell_type": "markdown",
      "source": [
        "SVM대신 SGDClassifier를 훈련시킬수도 있음. 이경우 Ovr,OvO 필요x"
      ],
      "metadata": {
        "id": "6oqpZAfsANJK"
      }
    },
    {
      "cell_type": "code",
      "source": [
        "sgd_clf.fit(X_train, y_train)\n",
        "print(sgd_clf.predict([some_digit]))\n",
        "print(sgd_clf.decision_function([some_digit]))"
      ],
      "metadata": {
        "id": "YPWEwK2aAHom"
      },
      "execution_count": null,
      "outputs": []
    },
    {
      "cell_type": "code",
      "source": [
        "cross_val_score(sgd_clf, X_train, y_train,cv=3, scoring=\"accuracy\")"
      ],
      "metadata": {
        "id": "JcHbkpD-Ay_7"
      },
      "execution_count": null,
      "outputs": []
    },
    {
      "cell_type": "code",
      "source": [
        "from sklearn.preprocessing import StandardScaler\n",
        "scaler=StandardScaler()\n",
        "X_train_scaled=scaler.fit_transform(X_train.astype(np.float64))\n",
        "cross_val_score(sgd_clf,X_train_scaled, y_train, cv=3, scoring=\"accuracy\")"
      ],
      "metadata": {
        "id": "eYxzY6iEBhRs"
      },
      "execution_count": null,
      "outputs": []
    },
    {
      "cell_type": "markdown",
      "source": [
        "오차행렬을 통해 만들어진 에러 종류 분석"
      ],
      "metadata": {
        "id": "dCADGtFOGUgF"
      }
    },
    {
      "cell_type": "code",
      "source": [
        "y_train_pred = cross_val_predict(sgd_clf, X_train_scaled, y_train,cv=3)\n",
        "conf_mx = confusion_matrix(y_train, y_train_5)\n",
        "print(conf_mx)"
      ],
      "metadata": {
        "id": "4UbyfG2JFWp9"
      },
      "execution_count": null,
      "outputs": []
    },
    {
      "cell_type": "markdown",
      "source": [
        "**matplotlib의 matshow함수를 사용해 이미지로 표현하면 한눈에 보기 좋다.**"
      ],
      "metadata": {
        "id": "_AMzAnXiHEnW"
      }
    },
    {
      "cell_type": "code",
      "source": [
        "plt.matshow(conf_mx,cmap=plt.cm.gray)\n",
        "plt.show()"
      ],
      "metadata": {
        "id": "yDS2iKj7GwAm"
      },
      "execution_count": null,
      "outputs": []
    }
  ]
}