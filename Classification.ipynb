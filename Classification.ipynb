{
  "nbformat": 4,
  "nbformat_minor": 0,
  "metadata": {
    "colab": {
      "name": "Classification.ipynb",
      "provenance": [],
      "collapsed_sections": [],
      "authorship_tag": "ABX9TyMqHxKHjxLk/6+IrIFdrhDZ",
      "include_colab_link": true
    },
    "kernelspec": {
      "name": "python3",
      "display_name": "Python 3"
    },
    "language_info": {
      "name": "python"
    }
  },
  "cells": [
    {
      "cell_type": "markdown",
      "metadata": {
        "id": "view-in-github",
        "colab_type": "text"
      },
      "source": [
        "<a href=\"https://colab.research.google.com/github/mk1encer/HandsOnML/blob/main/Classification.ipynb\" target=\"_parent\"><img src=\"https://colab.research.google.com/assets/colab-badge.svg\" alt=\"Open In Colab\"/></a>"
      ]
    },
    {
      "cell_type": "code",
      "execution_count": 18,
      "metadata": {
        "colab": {
          "base_uri": "https://localhost:8080/"
        },
        "id": "NctwQbNyndve",
        "outputId": "1d60f317-c1c5-4db0-c2d2-7646575094f6"
      },
      "outputs": [
        {
          "output_type": "execute_result",
          "data": {
            "text/plain": [
              "dict_keys(['data', 'target', 'frame', 'categories', 'feature_names', 'target_names', 'DESCR', 'details', 'url'])"
            ]
          },
          "metadata": {},
          "execution_count": 18
        }
      ],
      "source": [
        "from sklearn.datasets import fetch_openml\n",
        "mnist=fetch_openml('mnist_784',version=1,as_frame=False)\n",
        "mnist.keys()"
      ]
    },
    {
      "cell_type": "code",
      "source": [
        "X,y=mnist['data'],mnist['target']\n",
        "print(type(X))"
      ],
      "metadata": {
        "colab": {
          "base_uri": "https://localhost:8080/"
        },
        "id": "19EdEomxnq_F",
        "outputId": "b2cd1090-50b4-4840-93a8-7813a12ef28f"
      },
      "execution_count": 19,
      "outputs": [
        {
          "output_type": "stream",
          "name": "stdout",
          "text": [
            "<class 'numpy.ndarray'>\n"
          ]
        }
      ]
    },
    {
      "cell_type": "code",
      "source": [
        "import matplotlib as mpl\n",
        "import matplotlib.pyplot as plt\n",
        "import numpy as np\n",
        "import pandas as pd\n",
        "\n",
        "some_digit=X[0]\n",
        "some_digit_image=some_digit.reshape(28,28)\n",
        "\n",
        "plt.imshow(some_digit_image, cmap='binary')\n",
        "plt.axis('off')\n",
        "plt.show()"
      ],
      "metadata": {
        "colab": {
          "base_uri": "https://localhost:8080/",
          "height": 248
        },
        "id": "otW9Dcb1pIt9",
        "outputId": "b16e95af-3019-4d25-d950-cbc5dd6f8d15"
      },
      "execution_count": 28,
      "outputs": [
        {
          "output_type": "display_data",
          "data": {
            "image/png": "[encoded data removed]",
            "text/plain": [
              "<Figure size 432x288 with 1 Axes>"
            ]
          },
          "metadata": {
            "needs_background": "light"
          }
        }
      ]
    },
    {
      "cell_type": "code",
      "source": [
        "y[0]"
      ],
      "metadata": {
        "colab": {
          "base_uri": "https://localhost:8080/",
          "height": 35
        },
        "id": "fcEjjOMCpv7K",
        "outputId": "aced1396-0ce5-4e81-fe8b-69090b8e884f"
      },
      "execution_count": 29,
      "outputs": [
        {
          "output_type": "execute_result",
          "data": {
            "application/vnd.google.colaboratory.intrinsic+json": {
              "type": "string"
            },
            "text/plain": [
              "'5'"
            ]
          },
          "metadata": {},
          "execution_count": 29
        }
      ]
    },
    {
      "cell_type": "code",
      "source": [
        "y=y.astype(np.uint8)"
      ],
      "metadata": {
        "id": "GVWyRi-mrVde"
      },
      "execution_count": 30,
      "outputs": []
    },
    {
      "cell_type": "code",
      "source": [
        "#from sklearn.model_selection import train_test_split\n",
        "#X_train, X_test, y_train, y_test = train_test_split(X,y,train_size=0.9,random_state=100)\n",
        "\n",
        "\n",
        "X_train, X_test, y_train, y_test=X[:60000],X[60000:],y[:60000],y[60000:]"
      ],
      "metadata": {
        "id": "qAKUdC3Lrdih"
      },
      "execution_count": 31,
      "outputs": []
    },
    {
      "cell_type": "markdown",
      "source": [
        "# 훈련세트를 섞어서 모든 교차검증폴드를 비슷하게 만들어 주는 것이 좋다. 어떤 학습 알고리즘은 샘플 훈서에 민감해서 비슷한 샘플이 연이어 나타나면 성능이 나빠짐."
      ],
      "metadata": {
        "id": "qUP5bK5asW5U"
      }
    },
    {
      "cell_type": "markdown",
      "source": [
        "## *이진 분류기 훈련*"
      ],
      "metadata": {
        "id": "mknHZvuisi1n"
      }
    },
    {
      "cell_type": "code",
      "source": [
        "y_train_5=(y_train==5)\n",
        "y_test_5=(y_test==5)"
      ],
      "metadata": {
        "id": "ej3oDRtnsLrP"
      },
      "execution_count": 32,
      "outputs": []
    },
    {
      "cell_type": "markdown",
      "source": [
        "확률적 경사하강법(SGD)로 훈련.\n",
        " SGD는 한번에 하나씩 훈련샘플을 독립적으로 처리해서 매우 큰 데이터셋을 효율적으로 처리함(온라인 학습에 적합)"
      ],
      "metadata": {
        "id": "VRS78G4Vs4mI"
      }
    },
    {
      "cell_type": "code",
      "source": [
        "from sklearn.linear_model import SGDClassifier\n",
        "\n",
        "sgd_clf=SGDClassifier(random_state=42)\n",
        "#SGDClassifier는 무작위성을 훈련시 사용하므로 재현하려면 매개변수지정 필요.\n",
        "sgd_clf.fit(X_train, y_train_5)"
      ],
      "metadata": {
        "colab": {
          "base_uri": "https://localhost:8080/"
        },
        "id": "D8mjfSi6s1CW",
        "outputId": "600b4cf1-93ad-4db2-b3ac-5ca6d7545f85"
      },
      "execution_count": 34,
      "outputs": [
        {
          "output_type": "execute_result",
          "data": {
            "text/plain": [
              "SGDClassifier(random_state=42)"
            ]
          },
          "metadata": {},
          "execution_count": 34
        }
      ]
    },
    {
      "cell_type": "code",
      "source": [
        "sgd_clf.predict([some_digit])"
      ],
      "metadata": {
        "colab": {
          "base_uri": "https://localhost:8080/"
        },
        "id": "cm5Df3XVteih",
        "outputId": "5eb82c51-355c-4f9c-e555-d4e1b07a9f6a"
      },
      "execution_count": 35,
      "outputs": [
        {
          "output_type": "execute_result",
          "data": {
            "text/plain": [
              "array([ True])"
            ]
          },
          "metadata": {},
          "execution_count": 35
        }
      ]
    },
    {
      "cell_type": "code",
      "source": [
        "from sklearn.model_selection import cross_val_score\n",
        "cross_val_score(sgd_clf, X_train, y_train_5,cv=4,scoring='accuracy')"
      ],
      "metadata": {
        "colab": {
          "base_uri": "https://localhost:8080/"
        },
        "id": "RL0WLuB0trfw",
        "outputId": "22883773-b241-4be5-b189-3bf9db63680e"
      },
      "execution_count": 37,
      "outputs": [
        {
          "output_type": "execute_result",
          "data": {
            "text/plain": [
              "array([0.95766667, 0.9664    , 0.96513333, 0.95366667])"
            ]
          },
          "metadata": {},
          "execution_count": 37
        }
      ]
    },
    {
      "cell_type": "markdown",
      "source": [
        "정확도가 95%이상. 다음은 모든 이미지를 5아님으로 분류하는 더미 분류기를 만들어보겠다."
      ],
      "metadata": {
        "id": "wQha7QYTutaE"
      }
    },
    {
      "cell_type": "code",
      "source": [
        "from sklearn.base import BaseEstimator\n",
        "\n",
        "class Never5Classifier(BaseEstimator):\n",
        "  def fit(self, X,y=None):\n",
        "    return self\n",
        "  \n",
        "  def predict(self,X):\n",
        "    return np.zeros((len(X),1),dtype=bool)"
      ],
      "metadata": {
        "id": "dRnwOAKHuWuF"
      },
      "execution_count": 38,
      "outputs": []
    },
    {
      "cell_type": "code",
      "source": [
        "never_5_clf=Never5Classifier()\n",
        "cross_val_score(never_5_clf,X_train,y_train_5,cv=3,scoring='accuracy')"
      ],
      "metadata": {
        "colab": {
          "base_uri": "https://localhost:8080/"
        },
        "id": "dVjZL-xTvI7r",
        "outputId": "a2400dc7-1140-4109-8d12-58295a450dcb"
      },
      "execution_count": 40,
      "outputs": [
        {
          "output_type": "execute_result",
          "data": {
            "text/plain": [
              "array([0.91125, 0.90855, 0.90915])"
            ]
          },
          "metadata": {},
          "execution_count": 40
        }
      ]
    },
    {
      "cell_type": "markdown",
      "source": [
        "숫자가 0-9 10개이므로 모두5아님으로 분류해도 정확도가 90%가까이 나오는것을 알 수 있음.\n",
        "**그러므로 정확도는 분류기의 성능측정지표로 적합하지 않다.**\n",
        "\n",
        "오차행렬을 사용하는 편이 낫다."
      ],
      "metadata": {
        "id": "mSm_uWoXvfRf"
      }
    },
    {
      "cell_type": "markdown",
      "source": [
        "오차행렬을 만들기 위해서는 예측값을 만들어야 하는데 테스트세트로 하면 안되고 cross_val_predict()함수를 이용하면 된다."
      ],
      "metadata": {
        "id": "uM2KqhvmwM-W"
      }
    },
    {
      "cell_type": "code",
      "source": [
        "from sklearn.model_selection import cross_val_predict\n",
        "\n",
        "y_train_pred=cross_val_predict(sgd_clf, X_train, y_train_5, cv=3)"
      ],
      "metadata": {
        "id": "AylEVDbCvV_E"
      },
      "execution_count": 41,
      "outputs": []
    },
    {
      "cell_type": "markdown",
      "source": [
        "cross_val_predict()함수는 cross_val_score()함수와 동일하게 k-겹 교차검증을 수행하지만 평가점수 반환이 아닌 각 테스트폴드에서 얻은 예측을 반환하므로 모든 훈련세트 샘플에 대해 꺠끗한 예측을 얻을 수 있다."
      ],
      "metadata": {
        "id": "JYq_V72DwiRN"
      }
    },
    {
      "cell_type": "code",
      "source": [
        ""
      ],
      "metadata": {
        "id": "Zz2Bk9ZFwgYC"
      },
      "execution_count": null,
      "outputs": []
    }
  ]
}