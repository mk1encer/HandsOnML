{
  "nbformat": 4,
  "nbformat_minor": 0,
  "metadata": {
    "colab": {
      "name": "Classification.ipynb",
      "provenance": [],
      "collapsed_sections": [],
      "authorship_tag": "ABX9TyPQ1ExlbV4nhGkIbmJ0xwqj",
      "include_colab_link": true
    },
    "kernelspec": {
      "name": "python3",
      "display_name": "Python 3"
    },
    "language_info": {
      "name": "python"
    }
  },
  "cells": [
    {
      "cell_type": "markdown",
      "metadata": {
        "id": "view-in-github",
        "colab_type": "text"
      },
      "source": [
        "<a href=\"https://colab.research.google.com/github/mk1encer/HandsOnML/blob/main/Classification.ipynb\" target=\"_parent\"><img src=\"https://colab.research.google.com/assets/colab-badge.svg\" alt=\"Open In Colab\"/></a>"
      ]
    },
    {
      "cell_type": "code",
      "execution_count": 2,
      "metadata": {
        "colab": {
          "base_uri": "https://localhost:8080/"
        },
        "id": "NctwQbNyndve",
        "outputId": "a03f26db-f0ec-467f-d1ee-4a50f01e8088"
      },
      "outputs": [
        {
          "output_type": "execute_result",
          "data": {
            "text/plain": [
              "dict_keys(['data', 'target', 'frame', 'categories', 'feature_names', 'target_names', 'DESCR', 'details', 'url'])"
            ]
          },
          "metadata": {},
          "execution_count": 2
        }
      ],
      "source": [
        "from sklearn.datasets import fetch_openml\n",
        "mnist=fetch_openml('mnist_784',version=1,as_frame=False)\n",
        "mnist.keys()"
      ]
    },
    {
      "cell_type": "code",
      "source": [
        "X,y=mnist['data'],mnist['target']\n",
        "print(type(X))"
      ],
      "metadata": {
        "colab": {
          "base_uri": "https://localhost:8080/"
        },
        "id": "19EdEomxnq_F",
        "outputId": "5aee7178-3332-4bb1-e2b0-f12d299bfc5d"
      },
      "execution_count": 4,
      "outputs": [
        {
          "output_type": "stream",
          "name": "stdout",
          "text": [
            "<class 'numpy.ndarray'>\n"
          ]
        }
      ]
    },
    {
      "cell_type": "code",
      "source": [
        "import matplotlib as mpl\n",
        "import matplotlib.pyplot as plt\n",
        "import numpy as np\n",
        "import pandas as pd\n",
        "\n",
        "some_digit=X[0]\n",
        "some_digit_image=some_digit.reshape(28,28)\n",
        "\n",
        "plt.imshow(some_digit_image, cmap='binary')\n",
        "plt.axis('off')\n",
        "plt.show()"
      ],
      "metadata": {
        "colab": {
          "base_uri": "https://localhost:8080/",
          "height": 248
        },
        "id": "otW9Dcb1pIt9",
        "outputId": "80410785-1693-44c7-ba15-d4d36f622dac"
      },
      "execution_count": 5,
      "outputs": [
        {
          "output_type": "display_data",
          "data": {
            "image/png": "[encoded data removed]",
            "text/plain": [
              "<Figure size 432x288 with 1 Axes>"
            ]
          },
          "metadata": {
            "needs_background": "light"
          }
        }
      ]
    },
    {
      "cell_type": "code",
      "source": [
        "y[0]"
      ],
      "metadata": {
        "colab": {
          "base_uri": "https://localhost:8080/",
          "height": 35
        },
        "id": "fcEjjOMCpv7K",
        "outputId": "c4f9ca75-a9d6-45e4-c990-364c6653aa7e"
      },
      "execution_count": 6,
      "outputs": [
        {
          "output_type": "execute_result",
          "data": {
            "application/vnd.google.colaboratory.intrinsic+json": {
              "type": "string"
            },
            "text/plain": [
              "'5'"
            ]
          },
          "metadata": {},
          "execution_count": 6
        }
      ]
    },
    {
      "cell_type": "code",
      "source": [
        "y=y.astype(np.uint8)"
      ],
      "metadata": {
        "id": "GVWyRi-mrVde"
      },
      "execution_count": 7,
      "outputs": []
    },
    {
      "cell_type": "code",
      "source": [
        "#from sklearn.model_selection import train_test_split\n",
        "#X_train, X_test, y_train, y_test = train_test_split(X,y,train_size=0.9,random_state=100)\n",
        "\n",
        "\n",
        "X_train, X_test, y_train, y_test=X[:60000],X[60000:],y[:60000],y[60000:]"
      ],
      "metadata": {
        "id": "qAKUdC3Lrdih"
      },
      "execution_count": 8,
      "outputs": []
    },
    {
      "cell_type": "markdown",
      "source": [
        "# 훈련세트를 섞어서 모든 교차검증폴드를 비슷하게 만들어 주는 것이 좋다. 어떤 학습 알고리즘은 샘플 훈서에 민감해서 비슷한 샘플이 연이어 나타나면 성능이 나빠짐."
      ],
      "metadata": {
        "id": "qUP5bK5asW5U"
      }
    },
    {
      "cell_type": "markdown",
      "source": [
        "## *이진 분류기 훈련*"
      ],
      "metadata": {
        "id": "mknHZvuisi1n"
      }
    },
    {
      "cell_type": "code",
      "source": [
        "y_train_5=(y_train==5)\n",
        "y_test_5=(y_test==5)"
      ],
      "metadata": {
        "id": "ej3oDRtnsLrP"
      },
      "execution_count": 9,
      "outputs": []
    },
    {
      "cell_type": "markdown",
      "source": [
        "확률적 경사하강법(SGD)로 훈련.\n",
        " SGD는 한번에 하나씩 훈련샘플을 독립적으로 처리해서 매우 큰 데이터셋을 효율적으로 처리함(온라인 학습에 적합)"
      ],
      "metadata": {
        "id": "VRS78G4Vs4mI"
      }
    },
    {
      "cell_type": "code",
      "source": [
        "from sklearn.linear_model import SGDClassifier\n",
        "\n",
        "sgd_clf=SGDClassifier(random_state=42)\n",
        "#SGDClassifier는 무작위성을 훈련시 사용하므로 재현하려면 매개변수지정 필요.\n",
        "sgd_clf.fit(X_train, y_train_5)"
      ],
      "metadata": {
        "colab": {
          "base_uri": "https://localhost:8080/"
        },
        "id": "D8mjfSi6s1CW",
        "outputId": "d4f3c90d-d997-4cea-c645-8e94d317b26a"
      },
      "execution_count": 10,
      "outputs": [
        {
          "output_type": "execute_result",
          "data": {
            "text/plain": [
              "SGDClassifier(random_state=42)"
            ]
          },
          "metadata": {},
          "execution_count": 10
        }
      ]
    },
    {
      "cell_type": "code",
      "source": [
        "sgd_clf.predict([some_digit])"
      ],
      "metadata": {
        "colab": {
          "base_uri": "https://localhost:8080/"
        },
        "id": "cm5Df3XVteih",
        "outputId": "99efe31e-c021-4c13-ebd5-09c6e87dcfbd"
      },
      "execution_count": 11,
      "outputs": [
        {
          "output_type": "execute_result",
          "data": {
            "text/plain": [
              "array([ True])"
            ]
          },
          "metadata": {},
          "execution_count": 11
        }
      ]
    },
    {
      "cell_type": "code",
      "source": [
        "from sklearn.model_selection import cross_val_score\n",
        "cross_val_score(sgd_clf, X_train, y_train_5,cv=3,scoring='accuracy')"
      ],
      "metadata": {
        "colab": {
          "base_uri": "https://localhost:8080/"
        },
        "id": "RL0WLuB0trfw",
        "outputId": "c4e1a3b4-2991-44d4-89a2-147e2f24492b"
      },
      "execution_count": 12,
      "outputs": [
        {
          "output_type": "execute_result",
          "data": {
            "text/plain": [
              "array([0.95035, 0.96035, 0.9604 ])"
            ]
          },
          "metadata": {},
          "execution_count": 12
        }
      ]
    },
    {
      "cell_type": "markdown",
      "source": [
        "정확도가 95%이상. 다음은 모든 이미지를 5아님으로 분류하는 더미 분류기를 만들어보겠다."
      ],
      "metadata": {
        "id": "wQha7QYTutaE"
      }
    },
    {
      "cell_type": "code",
      "source": [
        "from sklearn.base import BaseEstimator\n",
        "\n",
        "class Never5Classifier(BaseEstimator):\n",
        "  def fit(self, X,y=None):\n",
        "    return self\n",
        "  \n",
        "  def predict(self,X):\n",
        "    return np.zeros((len(X),1),dtype=bool)"
      ],
      "metadata": {
        "id": "dRnwOAKHuWuF"
      },
      "execution_count": 13,
      "outputs": []
    },
    {
      "cell_type": "code",
      "source": [
        "never_5_clf=Never5Classifier()\n",
        "cross_val_score(never_5_clf,X_train,y_train_5,cv=3,scoring='accuracy')"
      ],
      "metadata": {
        "colab": {
          "base_uri": "https://localhost:8080/"
        },
        "id": "dVjZL-xTvI7r",
        "outputId": "b73c8faf-3497-4f35-e16c-ec1650290b68"
      },
      "execution_count": 14,
      "outputs": [
        {
          "output_type": "execute_result",
          "data": {
            "text/plain": [
              "array([0.91125, 0.90855, 0.90915])"
            ]
          },
          "metadata": {},
          "execution_count": 14
        }
      ]
    },
    {
      "cell_type": "markdown",
      "source": [
        "숫자가 0-9 10개이므로 모두5아님으로 분류해도 정확도가 90%가까이 나오는것을 알 수 있음.\n",
        "**그러므로 정확도는 분류기의 성능측정지표로 적합하지 않다.**\n",
        "\n",
        "오차행렬을 사용하는 편이 낫다."
      ],
      "metadata": {
        "id": "mSm_uWoXvfRf"
      }
    },
    {
      "cell_type": "markdown",
      "source": [
        "오차행렬을 만들기 위해서는 예측값을 만들어야 하는데 테스트세트로 하면 안되고 cross_val_predict()함수를 이용하면 된다."
      ],
      "metadata": {
        "id": "uM2KqhvmwM-W"
      }
    },
    {
      "cell_type": "code",
      "source": [
        "from sklearn.model_selection import cross_val_predict\n",
        "\n",
        "y_train_pred=cross_val_predict(sgd_clf, X_train, y_train_5, cv=3)"
      ],
      "metadata": {
        "id": "AylEVDbCvV_E"
      },
      "execution_count": 15,
      "outputs": []
    },
    {
      "cell_type": "markdown",
      "source": [
        "cross_val_predict()함수는 cross_val_score()함수와 동일하게 k-겹 교차검증을 수행하지만 평가점수 반환이 아닌 각 테스트폴드에서 얻은 예측을 반환하므로 모든 훈련세트 샘플에 대해 꺠끗한 예측을 얻을 수 있다.\n",
        "\n",
        "confusion_matrix()함수를 사용하면 오차행렬을 만들 수 있음."
      ],
      "metadata": {
        "id": "JYq_V72DwiRN"
      }
    },
    {
      "cell_type": "code",
      "source": [
        "from sklearn.metrics import confusion_matrix\n",
        "\n",
        "confusion_matrix(y_train_5,y_train_pred)"
      ],
      "metadata": {
        "id": "Zz2Bk9ZFwgYC",
        "colab": {
          "base_uri": "https://localhost:8080/"
        },
        "outputId": "6e7712ad-d849-46c5-ac60-4e85dfa553bb"
      },
      "execution_count": 16,
      "outputs": [
        {
          "output_type": "execute_result",
          "data": {
            "text/plain": [
              "array([[53892,   687],\n",
              "       [ 1891,  3530]])"
            ]
          },
          "metadata": {},
          "execution_count": 16
        }
      ]
    },
    {
      "cell_type": "markdown",
      "source": [
        "오차행렬에서 행(가로)은 실제 클래스, 열은 예측한 클래스\n",
        "\n",
        "**즉, True Negative, False Positive, False Negative, True Positive 순이다.**"
      ],
      "metadata": {
        "id": "O4w7OpbXDio5"
      }
    },
    {
      "cell_type": "code",
      "source": [
        "y_train_perfect_predictions = y_train_5\n",
        "confusion_matrix(y_train_5,y_train_perfect_predictions)"
      ],
      "metadata": {
        "colab": {
          "base_uri": "https://localhost:8080/"
        },
        "id": "CWBGAn4uCZAL",
        "outputId": "2ee142a8-d18b-4fd4-b78e-1d7c8e7d0593"
      },
      "execution_count": 17,
      "outputs": [
        {
          "output_type": "execute_result",
          "data": {
            "text/plain": [
              "array([[54579,     0],\n",
              "       [    0,  5421]])"
            ]
          },
          "metadata": {},
          "execution_count": 17
        }
      ]
    },
    {
      "cell_type": "markdown",
      "source": [
        "완벽한 분류기라면 False Positive, False Negative값이 0이 된다."
      ],
      "metadata": {
        "id": "cL0pG-GPD-iU"
      }
    },
    {
      "cell_type": "markdown",
      "source": [
        "정밀도: True로 분류한 결과중 몇개가 맞게 분류되었는지\n",
        "  TP/TP+FP\n",
        "  **precision_score()로 구할 수 있음**\n",
        "\n",
        "재현율: 전체 True 데이터중 몇개가 True로 분류되었는지\n",
        "  TP/TP+FN\n",
        "  **recall_score()로 구할 수 있음**"
      ],
      "metadata": {
        "id": "mkkV4jwzEcdA"
      }
    },
    {
      "cell_type": "code",
      "source": [
        "from sklearn.metrics import precision_score, recall_score\n",
        "print(precision_score(y_train_5,y_train_pred))\n",
        "print(recall_score(y_train_5,y_train_pred))"
      ],
      "metadata": {
        "colab": {
          "base_uri": "https://localhost:8080/"
        },
        "id": "cxJBCWlzEPVb",
        "outputId": "0af6ca6c-d45b-4a09-9f19-0f28d4fc0304"
      },
      "execution_count": 18,
      "outputs": [
        {
          "output_type": "stream",
          "name": "stdout",
          "text": [
            "0.8370879772350012\n",
            "0.6511713705958311\n"
          ]
        }
      ]
    },
    {
      "cell_type": "markdown",
      "source": [
        "정밀도와 재현율의 조화평균이 F1-score이다. \n",
        "**이 또한 f1_score()함수로 구할 수 있음**"
      ],
      "metadata": {
        "id": "radpi30hFs2G"
      }
    },
    {
      "cell_type": "code",
      "source": [
        "from sklearn.metrics import f1_score\n",
        "f1_score(y_train_5,y_train_pred)"
      ],
      "metadata": {
        "colab": {
          "base_uri": "https://localhost:8080/"
        },
        "id": "zlOf3IRjFh5J",
        "outputId": "ac748c89-f62e-478f-a201-bc46037847d4"
      },
      "execution_count": 19,
      "outputs": [
        {
          "output_type": "execute_result",
          "data": {
            "text/plain": [
              "0.7325171197343846"
            ]
          },
          "metadata": {},
          "execution_count": 19
        }
      ]
    },
    {
      "cell_type": "markdown",
      "source": [
        "정밀도와 재현율이 비슷하면 f1점수가 높은데 상황에 따라 정밀도, 재현율중 중요한 것이 다르므로 고려해야함. \n",
        "# 정밀도/재현율 trade-off"
      ],
      "metadata": {
        "id": "PaLSQI-KGEQ2"
      }
    },
    {
      "cell_type": "markdown",
      "source": [
        "SGD분류기는 결정함수가 threshold보다 크면 양성, 작으면 음성으로 분류한다. 사이킷런에서 predict()대신 decision_function()메소드를 호출하면 임계값을 정할 수 있다."
      ],
      "metadata": {
        "id": "GEXSvuh8Gyxw"
      }
    },
    {
      "cell_type": "code",
      "source": [
        "y_scores=sgd_clf.decision_function([some_digit])\n",
        "print(y_scores)\n",
        "threshold=0\n",
        "y_some_digit_pred=(y_scores > threshold)\n",
        "print(y_some_digit_pred)"
      ],
      "metadata": {
        "colab": {
          "base_uri": "https://localhost:8080/"
        },
        "id": "-7PDDcTzF_Nn",
        "outputId": "a8ed9353-7edb-4e69-ea14-ab22d0cf4dfe"
      },
      "execution_count": 22,
      "outputs": [
        {
          "output_type": "stream",
          "name": "stdout",
          "text": [
            "[2164.22030239]\n",
            "[ True]\n"
          ]
        }
      ]
    },
    {
      "cell_type": "code",
      "source": [
        "threshold=8000\n",
        "y_some_digit_pred=(y_scores > threshold)\n",
        "print(y_some_digit_pred)"
      ],
      "metadata": {
        "colab": {
          "base_uri": "https://localhost:8080/"
        },
        "id": "1bX-QhzgH42D",
        "outputId": "e08a9ec0-784b-4064-c93f-e9ad94fe02e4"
      },
      "execution_count": 23,
      "outputs": [
        {
          "output_type": "stream",
          "name": "stdout",
          "text": [
            "[False]\n"
          ]
        }
      ]
    },
    {
      "cell_type": "markdown",
      "source": [
        "threshold가 높아지면 재현율이 줄어든다.\n",
        "적절한 threshold를 구하기 위해 cross_val_predict()함수를 사용해 모든 샘플의 점수를 구해야한다.**(예측결과가 아니라 결정점수를 반환받아야함)**"
      ],
      "metadata": {
        "id": "dt_OZLXlIPcD"
      }
    },
    {
      "cell_type": "code",
      "source": [
        "y_scores=cross_val_predict(sgd_clf, X_train, y_train_5, cv=3, method='decision_function')"
      ],
      "metadata": {
        "id": "zupLtOy9IKE1"
      },
      "execution_count": 34,
      "outputs": []
    },
    {
      "cell_type": "code",
      "source": [
        "from sklearn.metrics import precision_recall_curve\n",
        "precisions, recalls, thresholds = precision_recall_curve(y_train_5,y_scores)\n"
      ],
      "metadata": {
        "id": "1CAy46f4JYjc"
      },
      "execution_count": 35,
      "outputs": []
    },
    {
      "cell_type": "code",
      "source": [
        "def plot_precision_recall_vs_threshold(precisions, recalls, thresholds):\n",
        "  plt.plot(thresholds, precisions[:-1],'b--',label='Precision')\n",
        "  plt.plot(thresholds, recalls[:-1],'g--',label='Recall')\n",
        "  plt.xlabel('threshold')\n",
        "  plt.legend(['precision','recall'])\n",
        "  plt.xlim(-50000,50000)\n",
        "  plt.grid(True)\n",
        "\n",
        "plot_precision_recall_vs_threshold(precisions, recalls, thresholds)\n",
        "plt.show()"
      ],
      "metadata": {
        "colab": {
          "base_uri": "https://localhost:8080/",
          "height": 279
        },
        "id": "huhelCwsLn-k",
        "outputId": "7d8f9dff-a051-40f4-e7a6-492b1cce9792"
      },
      "execution_count": 41,
      "outputs": [
        {
          "output_type": "display_data",
          "data": {
            "image/png": "[encoded data removed]",
            "text/plain": [
              "<Figure size 432x288 with 1 Axes>"
            ]
          },
          "metadata": {
            "needs_background": "light"
          }
        }
      ]
    },
    {
      "cell_type": "code",
      "source": [
        "def plot_precision_recall(precisions, recalls):\n",
        "  plt.plot(recalls[:-1], precisions[:-1],'b--',label='Precision')\n",
        "  plt.xlabel('recall')\n",
        "  plt.ylabel('precision')\n",
        "  plt.grid(True)\n",
        "\n",
        "plot_precision_recall(precisions, recalls)\n",
        "plt.show()"
      ],
      "metadata": {
        "colab": {
          "base_uri": "https://localhost:8080/",
          "height": 279
        },
        "id": "hmhPiJpENcrS",
        "outputId": "c95219ac-8680-45e3-9403-5072b524a279"
      },
      "execution_count": 42,
      "outputs": [
        {
          "output_type": "display_data",
          "data": {
            "image/png": "[encoded data removed]",
            "text/plain": [
              "<Figure size 432x288 with 1 Axes>"
            ]
          },
          "metadata": {
            "needs_background": "light"
          }
        }
      ]
    },
    {
      "cell_type": "markdown",
      "source": [
        "np.argmax()는 최댓값의 첫 번째 인덱스를 반환한다."
      ],
      "metadata": {
        "id": "5tCDXxKeOzsT"
      }
    },
    {
      "cell_type": "code",
      "source": [
        "threshold_90_precision = thresholds[np.argmax(precisions >= 0.9)]\n",
        "print(threshold_90_precision)"
      ],
      "metadata": {
        "colab": {
          "base_uri": "https://localhost:8080/"
        },
        "id": "OALsfs_9OiPZ",
        "outputId": "afdc546c-4429-4f9a-af62-79f4473b1ece"
      },
      "execution_count": 44,
      "outputs": [
        {
          "output_type": "stream",
          "name": "stdout",
          "text": [
            "3370.0194991439557\n"
          ]
        }
      ]
    },
    {
      "cell_type": "markdown",
      "source": [
        "훈련세트에 대한 예측을 만들려면 predict메소드 대신 다음 코드를 실행하면 된다."
      ],
      "metadata": {
        "id": "AipQdqNRPqQY"
      }
    },
    {
      "cell_type": "code",
      "source": [
        "y_train_pred_90 = (y_scores >= threshold_90_precision)\n",
        "\n",
        "print(precision_score(y_train_5,y_train_pred_90))\n",
        "print(recall_score(y_train_5,y_train_pred_90))"
      ],
      "metadata": {
        "colab": {
          "base_uri": "https://localhost:8080/"
        },
        "id": "HjP6UAivPAOi",
        "outputId": "35d49239-d6c4-433f-e0bd-93d0dace95f3"
      },
      "execution_count": 45,
      "outputs": [
        {
          "output_type": "stream",
          "name": "stdout",
          "text": [
            "0.9000345901072293\n",
            "0.4799852425751706\n"
          ]
        }
      ]
    },
    {
      "cell_type": "code",
      "source": [
        ""
      ],
      "metadata": {
        "id": "k5iAeWSzPoZZ"
      },
      "execution_count": null,
      "outputs": []
    }
  ]
}